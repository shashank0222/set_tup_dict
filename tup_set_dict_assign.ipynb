{
 "cells": [
  {
   "cell_type": "markdown",
   "id": "2e8cb6c2-b119-4e97-846b-7740cf7b2aeb",
   "metadata": {},
   "source": [
    "Q1. What are the characteristics of the tuples? Is tuple immutable?"
   ]
  },
  {
   "cell_type": "markdown",
   "id": "679287ec-51bc-4865-92f2-1ea48673d5cc",
   "metadata": {},
   "source": [
    "SOLUTION :\n",
    "\n",
    "    Tuples are similar to Python lists in terms of indexing, nested objects, and repetition but the main difference between both is that Python tuple is immutable, unlike the Python list which is mutable. Once a tuple is created, you cannot change its values. Tuples are defined by enclosing the elements in parentheses () separated by commas ,. They are ordered and allow duplicate values. You can access tuple items by referring to the index number, inside square brackets []"
   ]
  },
  {
   "cell_type": "markdown",
   "id": "d71b2f61-0d7a-4cf3-8478-370e215f3ee0",
   "metadata": {},
   "source": []
  },
  {
   "cell_type": "markdown",
   "id": "9d89209e-615c-4455-9548-302cf38ea9fd",
   "metadata": {},
   "source": [
    "Q2. What are the two tuple methods in python? Give an example of each method. Give a reason why\n",
    "tuples have only two in-built methods as compared to Lists."
   ]
  },
  {
   "cell_type": "markdown",
   "id": "298a176d-30ec-47eb-8815-5af7ca5272be",
   "metadata": {},
   "source": [
    "Solution : \n",
    "    \n",
    "    Two methods = index , count\n",
    "    "
   ]
  },
  {
   "cell_type": "code",
   "execution_count": 7,
   "id": "64c98af7-1767-4ee2-bb6a-85a86ba70c4d",
   "metadata": {},
   "outputs": [
    {
     "data": {
      "text/plain": [
       "1"
      ]
     },
     "execution_count": 7,
     "metadata": {},
     "output_type": "execute_result"
    }
   ],
   "source": [
    "tup = (1,2,3,8,3)\n",
    "\n",
    "tup.index(2)"
   ]
  },
  {
   "cell_type": "code",
   "execution_count": 8,
   "id": "a7981ac6-9b27-459b-860d-c5affae2c451",
   "metadata": {},
   "outputs": [
    {
     "data": {
      "text/plain": [
       "2"
      ]
     },
     "execution_count": 8,
     "metadata": {},
     "output_type": "execute_result"
    }
   ],
   "source": [
    "tup.count(3)"
   ]
  },
  {
   "cell_type": "markdown",
   "id": "310e6202-327e-4bff-8c02-ee6f5adb3349",
   "metadata": {},
   "source": [
    "tuples have only two in-built methods as compared to list because tuples are immutable in nature.\n",
    "We can not change its values once it is created"
   ]
  },
  {
   "cell_type": "code",
   "execution_count": null,
   "id": "8a7fa33e-eb85-46ce-a959-31e0fd112f27",
   "metadata": {},
   "outputs": [],
   "source": []
  },
  {
   "cell_type": "markdown",
   "id": "04310b5e-8b76-4bf7-a34e-2fb1bc0c57ee",
   "metadata": {},
   "source": [
    "Q3. Which collection datatypes in python do not allow duplicate items? Write a code using a set to remove\n",
    "duplicates from the given list.\n",
    "List = [1, 1, 1, 2, 1, 3, 1, 4, 2, 1, 2, 2, 2, 3, 2, 4, 3, 1, 3, 2, 3, 3, 3, 4, 4, 1, 4, 2, 4, 3, 4, 4]"
   ]
  },
  {
   "cell_type": "markdown",
   "id": "e0fbfffe-8bbc-4843-ba86-bd350b4649c7",
   "metadata": {},
   "source": [
    "Solution :  set collection datatypes in python do not allow duplicate items"
   ]
  },
  {
   "cell_type": "code",
   "execution_count": 9,
   "id": "91202c07-3484-40af-89e3-b6f413cba465",
   "metadata": {},
   "outputs": [],
   "source": [
    "l =  [1, 1, 1, 2, 1, 3, 1, 4, 2, 1, 2, 2, 2, 3, 2, 4, 3, 1, 3, 2, 3, 3, 3, 4, 4, 1, 4, 2, 4, 3, 4, 4]"
   ]
  },
  {
   "cell_type": "code",
   "execution_count": 10,
   "id": "19a697ce-f822-4cb4-a13d-e5440b66c321",
   "metadata": {},
   "outputs": [],
   "source": [
    "myset = set(l)"
   ]
  },
  {
   "cell_type": "code",
   "execution_count": 11,
   "id": "f677c90a-096b-4add-89cb-0402f5541f78",
   "metadata": {},
   "outputs": [
    {
     "data": {
      "text/plain": [
       "{1, 2, 3, 4}"
      ]
     },
     "execution_count": 11,
     "metadata": {},
     "output_type": "execute_result"
    }
   ],
   "source": [
    "myset"
   ]
  },
  {
   "cell_type": "code",
   "execution_count": null,
   "id": "0f959fd4-7fa8-4442-a11c-5bf060a2b437",
   "metadata": {},
   "outputs": [],
   "source": []
  },
  {
   "cell_type": "markdown",
   "id": "666d3e9a-3c2b-4db2-b7b3-46e02bd3cfeb",
   "metadata": {},
   "source": [
    "Q4. Explain the difference between the union() and update() methods for a set. Give an example of\n",
    "each method."
   ]
  },
  {
   "cell_type": "markdown",
   "id": "e8cd27e1-b78b-474a-a42b-544441112b1c",
   "metadata": {},
   "source": [
    "Solution: \n",
    "    \n",
    "    union() : this method add the unique elements of two sets and create a new set\n",
    "    \n",
    "    update() : this method add a set or any iterable to a set\n",
    "    "
   ]
  },
  {
   "cell_type": "code",
   "execution_count": 13,
   "id": "56b4eda4-cb0c-47e4-83b4-223ca62a8d2d",
   "metadata": {},
   "outputs": [],
   "source": [
    "s1 = {1,2,3,4}\n",
    "s2 = {4,5,6,7}\n",
    "\n",
    "s3 = s1.union(s2)\n",
    "s1.update(s2)"
   ]
  },
  {
   "cell_type": "code",
   "execution_count": 14,
   "id": "7f2737fd-c898-4c5f-bfa7-3a7a49c9e027",
   "metadata": {},
   "outputs": [
    {
     "data": {
      "text/plain": [
       "{1, 2, 3, 4, 5, 6, 7}"
      ]
     },
     "execution_count": 14,
     "metadata": {},
     "output_type": "execute_result"
    }
   ],
   "source": [
    "s3"
   ]
  },
  {
   "cell_type": "code",
   "execution_count": 15,
   "id": "204fdbe5-e707-448a-96a7-cfb11c28fc20",
   "metadata": {},
   "outputs": [
    {
     "data": {
      "text/plain": [
       "{1, 2, 3, 4, 5, 6, 7}"
      ]
     },
     "execution_count": 15,
     "metadata": {},
     "output_type": "execute_result"
    }
   ],
   "source": [
    "s1"
   ]
  },
  {
   "cell_type": "code",
   "execution_count": null,
   "id": "d3b4cae9-aacb-4976-890c-b4ad4fda4e37",
   "metadata": {},
   "outputs": [],
   "source": []
  },
  {
   "cell_type": "markdown",
   "id": "ed964828-8d6b-4614-9613-cffb2ad3cd05",
   "metadata": {},
   "source": [
    "Q5. What is a dictionary? Give an example. Also, state whether a dictionary is ordered or unordered."
   ]
  },
  {
   "cell_type": "markdown",
   "id": "ef5e6484-8b33-4d10-b8c1-6b57b073f826",
   "metadata": {},
   "source": [
    "Solution : \n",
    "    \n",
    "    Dictionary is a ordered collection of key-value pairs.\n",
    "    A dictionary is defined by enclosing the elements in curly braces {} separated by commas , .\n",
    "    Each key-value pair is separated by a colon :. Keys are unique while values are not unique"
   ]
  },
  {
   "cell_type": "code",
   "execution_count": 17,
   "id": "dacee708-c19f-4be4-8d84-3e611c6a3399",
   "metadata": {},
   "outputs": [
    {
     "data": {
      "text/plain": [
       "{'brand': 'Ford', 'model': 'Mustang', 'year': 1964}"
      ]
     },
     "execution_count": 17,
     "metadata": {},
     "output_type": "execute_result"
    }
   ],
   "source": [
    "my_dict = {\n",
    "  \"brand\": \"Ford\",\n",
    "  \"model\": \"Mustang\",\n",
    "  \"year\": 1964\n",
    "}\n",
    "\n",
    "my_dict"
   ]
  },
  {
   "cell_type": "code",
   "execution_count": null,
   "id": "6cc4d9d3-2ea3-4f64-9bc6-5fc07a5b1e47",
   "metadata": {},
   "outputs": [],
   "source": []
  },
  {
   "cell_type": "markdown",
   "id": "79a24218-0b0a-45a7-a8a9-1c6b857e0593",
   "metadata": {},
   "source": [
    "Q6. Can we create a nested dictionary? If so, please give an example by creating a simple one-level\n",
    "nested dictionary."
   ]
  },
  {
   "cell_type": "markdown",
   "id": "8f69431b-ddcb-49ee-8d70-7ee2c31176f6",
   "metadata": {},
   "source": [
    "Solution : \n",
    "    \n",
    "    we can not make key as dictionary . But we can make values as dictionary."
   ]
  },
  {
   "cell_type": "code",
   "execution_count": 18,
   "id": "94572e17-41b8-4d24-86ad-aad8edc13f61",
   "metadata": {},
   "outputs": [
    {
     "data": {
      "text/plain": [
       "{'name': {'Rakesh': 'A coder'}, 'id': 150}"
      ]
     },
     "execution_count": 18,
     "metadata": {},
     "output_type": "execute_result"
    }
   ],
   "source": [
    "dict1 = {\"name\" : {\"Rakesh\" : \"A coder\"} , \"id\" : 150}\n",
    "dict1"
   ]
  },
  {
   "cell_type": "code",
   "execution_count": null,
   "id": "5d920547-93f5-4c12-babd-2c768761caeb",
   "metadata": {},
   "outputs": [],
   "source": []
  },
  {
   "cell_type": "markdown",
   "id": "b5b5c937-c29c-4ce1-8309-1ee15fb505f1",
   "metadata": {},
   "source": [
    "Q7. Using setdefault() method, create key named topics in the given dictionary and also add the value of\n",
    "the key as this list ['Python', 'Machine Learning’, 'Deep Learning']\n",
    "dict1 = {'language' : 'Python', 'course': 'Data Science Masters'}"
   ]
  },
  {
   "cell_type": "code",
   "execution_count": 20,
   "id": "7a37f274-cf47-474b-9a34-ff7a680103e7",
   "metadata": {},
   "outputs": [],
   "source": [
    "dict1 = {'language' : 'Python', 'course': 'Data Science Masters'}"
   ]
  },
  {
   "cell_type": "code",
   "execution_count": 21,
   "id": "3d9cead7-5be0-40f0-9c84-e6f809db8343",
   "metadata": {},
   "outputs": [
    {
     "data": {
      "text/plain": [
       "{'language': 'Python', 'course': 'Data Science Masters'}"
      ]
     },
     "execution_count": 21,
     "metadata": {},
     "output_type": "execute_result"
    }
   ],
   "source": [
    "dict1"
   ]
  },
  {
   "cell_type": "code",
   "execution_count": 24,
   "id": "5fdef69f-ab86-48a4-89fa-98e3c2e638ab",
   "metadata": {},
   "outputs": [
    {
     "data": {
      "text/plain": [
       "['Python', 'Machine Learning', 'Deep Learning']"
      ]
     },
     "execution_count": 24,
     "metadata": {},
     "output_type": "execute_result"
    }
   ],
   "source": [
    "dict1.setdefault(\"topics\" , ['Python', \"Machine Learning\", \"Deep Learning\"] )"
   ]
  },
  {
   "cell_type": "code",
   "execution_count": 25,
   "id": "67e02c25-aa09-4dd6-8558-264c2a4f4e71",
   "metadata": {},
   "outputs": [
    {
     "data": {
      "text/plain": [
       "{'language': 'Python',\n",
       " 'course': 'Data Science Masters',\n",
       " 'topics': ['Python', 'Machine Learning', 'Deep Learning']}"
      ]
     },
     "execution_count": 25,
     "metadata": {},
     "output_type": "execute_result"
    }
   ],
   "source": [
    "dict1"
   ]
  },
  {
   "cell_type": "code",
   "execution_count": null,
   "id": "0b0e7b0b-7c59-4b1f-b76f-969b17a7b275",
   "metadata": {},
   "outputs": [],
   "source": []
  },
  {
   "cell_type": "code",
   "execution_count": null,
   "id": "333bc368-c535-49d6-a67c-1850fe52045e",
   "metadata": {},
   "outputs": [],
   "source": []
  }
 ],
 "metadata": {
  "kernelspec": {
   "display_name": "Python 3 (ipykernel)",
   "language": "python",
   "name": "python3"
  },
  "language_info": {
   "codemirror_mode": {
    "name": "ipython",
    "version": 3
   },
   "file_extension": ".py",
   "mimetype": "text/x-python",
   "name": "python",
   "nbconvert_exporter": "python",
   "pygments_lexer": "ipython3",
   "version": "3.10.8"
  }
 },
 "nbformat": 4,
 "nbformat_minor": 5
}
